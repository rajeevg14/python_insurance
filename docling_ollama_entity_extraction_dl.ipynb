{
 "cells": [
  {
   "cell_type": "markdown",
   "metadata": {},
   "source": [
    "## *Entity Extraction from descripiton related to a book using Granite-8B*\n",
    "LLMs have demonstrated remarkable accuracy in the task of entity extraction. This cookbook focuses on extracting key entities from descriptions related to books"
   ]
  },
  {
   "cell_type": "code",
   "execution_count": 1,
   "metadata": {},
   "outputs": [
    {
     "name": "stdout",
     "output_type": "stream",
     "text": [
      "\u001b[?25lpulling manifest ⠋ \u001b[?25h\u001b[?25l\u001b[2K\u001b[1Gpulling manifest ⠙ \u001b[?25h\u001b[?25l\u001b[2K\u001b[1Gpulling manifest ⠹ \u001b[?25h\u001b[?25l\u001b[2K\u001b[1Gpulling manifest \n",
      "pulling 44d19d212d76... 100% ▕████████████████▏ 5.0 GB                         \n",
      "pulling f76a906816c4... 100% ▕████████████████▏ 1.4 KB                         \n",
      "pulling f7b956e70ca3... 100% ▕████████████████▏   69 B                         \n",
      "pulling 492069a62c25... 100% ▕████████████████▏  11 KB                         \n",
      "pulling f9cd69f4077d... 100% ▕████████████████▏  491 B                         \n",
      "verifying sha256 digest \n",
      "writing manifest \n",
      "success \u001b[?25h\n",
      "\u001b[?25lpulling manifest ⠋ \u001b[?25h\u001b[?25l\u001b[2K\u001b[1Gpulling manifest ⠙ \u001b[?25h\u001b[?25l\u001b[2K\u001b[1Gpulling manifest \n",
      "pulling 970aa74c0a90... 100% ▕████████████████▏ 274 MB                         \n",
      "pulling c71d239df917... 100% ▕████████████████▏  11 KB                         \n",
      "pulling ce4a164fc046... 100% ▕████████████████▏   17 B                         \n",
      "pulling 31df23ea7daa... 100% ▕████████████████▏  420 B                         \n",
      "verifying sha256 digest \n",
      "writing manifest \n",
      "success \u001b[?25h\n"
     ]
    }
   ],
   "source": [
    "!ollama pull granite3.1-dense:8b\n",
    "!ollama pull nomic-embed-text"
   ]
  },
  {
   "cell_type": "markdown",
   "metadata": {},
   "source": [
    "### Install dependencies"
   ]
  },
  {
   "cell_type": "code",
   "execution_count": 4,
   "metadata": {},
   "outputs": [
    {
     "name": "stdout",
     "output_type": "stream",
     "text": [
      "\u001b[33mWARNING: There was an error checking the latest version of pip.\u001b[0m\u001b[33m\n",
      "\u001b[0mCollecting git+https://github.com/ibm-granite-community/utils\n",
      "  Cloning https://github.com/ibm-granite-community/utils to /private/var/folders/yq/mg65c_l16hv64plnb99z5dx40000gq/T/pip-req-build-eskz29gw\n",
      "  Running command git clone --filter=blob:none --quiet https://github.com/ibm-granite-community/utils /private/var/folders/yq/mg65c_l16hv64plnb99z5dx40000gq/T/pip-req-build-eskz29gw\n",
      "  Resolved https://github.com/ibm-granite-community/utils to commit 5d67648927240b208a164d2466f0dc77200450e5\n",
      "  Installing build dependencies ... \u001b[?25ldone\n",
      "\u001b[?25h  Getting requirements to build wheel ... \u001b[?25ldone\n",
      "\u001b[?25h  Preparing metadata (pyproject.toml) ... \u001b[?25ldone\n",
      "\u001b[?25hRequirement already satisfied: langchain_community in /Users/rajeev/.pyenv/versions/3.10.15/lib/python3.10/site-packages (0.3.13)\n",
      "Requirement already satisfied: pydantic in /Users/rajeev/.pyenv/versions/3.10.15/lib/python3.10/site-packages (2.10.4)\n",
      "Requirement already satisfied: python-dotenv in /Users/rajeev/.pyenv/versions/3.10.15/lib/python3.10/site-packages (from ibm-granite-community-utils==0.1.dev49) (1.0.1)\n",
      "Requirement already satisfied: PyYAML>=5.3 in /Users/rajeev/.pyenv/versions/3.10.15/lib/python3.10/site-packages (from langchain_community) (6.0.2)\n",
      "Requirement already satisfied: aiohttp<4.0.0,>=3.8.3 in /Users/rajeev/.pyenv/versions/3.10.15/lib/python3.10/site-packages (from langchain_community) (3.11.10)\n",
      "Requirement already satisfied: langchain<0.4.0,>=0.3.13 in /Users/rajeev/.pyenv/versions/3.10.15/lib/python3.10/site-packages (from langchain_community) (0.3.13)\n",
      "Requirement already satisfied: langchain-core<0.4.0,>=0.3.27 in /Users/rajeev/.pyenv/versions/3.10.15/lib/python3.10/site-packages (from langchain_community) (0.3.28)\n",
      "Requirement already satisfied: numpy<2,>=1.22.4 in /Users/rajeev/.pyenv/versions/3.10.15/lib/python3.10/site-packages (from langchain_community) (1.26.4)\n",
      "Requirement already satisfied: httpx-sse<0.5.0,>=0.4.0 in /Users/rajeev/.pyenv/versions/3.10.15/lib/python3.10/site-packages (from langchain_community) (0.4.0)\n",
      "Requirement already satisfied: pydantic-settings<3.0.0,>=2.4.0 in /Users/rajeev/.pyenv/versions/3.10.15/lib/python3.10/site-packages (from langchain_community) (2.7.1)\n",
      "Requirement already satisfied: dataclasses-json<0.7,>=0.5.7 in /Users/rajeev/.pyenv/versions/3.10.15/lib/python3.10/site-packages (from langchain_community) (0.6.7)\n",
      "Requirement already satisfied: langsmith<0.3,>=0.1.125 in /Users/rajeev/.pyenv/versions/3.10.15/lib/python3.10/site-packages (from langchain_community) (0.2.7)\n",
      "Requirement already satisfied: requests<3,>=2 in /Users/rajeev/.pyenv/versions/3.10.15/lib/python3.10/site-packages (from langchain_community) (2.32.3)\n",
      "Requirement already satisfied: tenacity!=8.4.0,<10,>=8.1.0 in /Users/rajeev/.pyenv/versions/3.10.15/lib/python3.10/site-packages (from langchain_community) (9.0.0)\n",
      "Requirement already satisfied: SQLAlchemy<3,>=1.4 in /Users/rajeev/.pyenv/versions/3.10.15/lib/python3.10/site-packages (from langchain_community) (2.0.36)\n",
      "Requirement already satisfied: pydantic-core==2.27.2 in /Users/rajeev/.pyenv/versions/3.10.15/lib/python3.10/site-packages (from pydantic) (2.27.2)\n",
      "Requirement already satisfied: typing-extensions>=4.12.2 in /Users/rajeev/.pyenv/versions/3.10.15/lib/python3.10/site-packages (from pydantic) (4.12.2)\n",
      "Requirement already satisfied: annotated-types>=0.6.0 in /Users/rajeev/.pyenv/versions/3.10.15/lib/python3.10/site-packages (from pydantic) (0.7.0)\n",
      "Requirement already satisfied: async-timeout<6.0,>=4.0 in /Users/rajeev/.pyenv/versions/3.10.15/lib/python3.10/site-packages (from aiohttp<4.0.0,>=3.8.3->langchain_community) (4.0.3)\n",
      "Requirement already satisfied: multidict<7.0,>=4.5 in /Users/rajeev/.pyenv/versions/3.10.15/lib/python3.10/site-packages (from aiohttp<4.0.0,>=3.8.3->langchain_community) (6.1.0)\n",
      "Requirement already satisfied: attrs>=17.3.0 in /Users/rajeev/.pyenv/versions/3.10.15/lib/python3.10/site-packages (from aiohttp<4.0.0,>=3.8.3->langchain_community) (24.2.0)\n",
      "Requirement already satisfied: frozenlist>=1.1.1 in /Users/rajeev/.pyenv/versions/3.10.15/lib/python3.10/site-packages (from aiohttp<4.0.0,>=3.8.3->langchain_community) (1.5.0)\n",
      "Requirement already satisfied: aiohappyeyeballs>=2.3.0 in /Users/rajeev/.pyenv/versions/3.10.15/lib/python3.10/site-packages (from aiohttp<4.0.0,>=3.8.3->langchain_community) (2.4.4)\n",
      "Requirement already satisfied: propcache>=0.2.0 in /Users/rajeev/.pyenv/versions/3.10.15/lib/python3.10/site-packages (from aiohttp<4.0.0,>=3.8.3->langchain_community) (0.2.1)\n",
      "Requirement already satisfied: aiosignal>=1.1.2 in /Users/rajeev/.pyenv/versions/3.10.15/lib/python3.10/site-packages (from aiohttp<4.0.0,>=3.8.3->langchain_community) (1.3.2)\n",
      "Requirement already satisfied: yarl<2.0,>=1.17.0 in /Users/rajeev/.pyenv/versions/3.10.15/lib/python3.10/site-packages (from aiohttp<4.0.0,>=3.8.3->langchain_community) (1.18.3)\n",
      "Requirement already satisfied: marshmallow<4.0.0,>=3.18.0 in /Users/rajeev/.pyenv/versions/3.10.15/lib/python3.10/site-packages (from dataclasses-json<0.7,>=0.5.7->langchain_community) (3.23.2)\n",
      "Requirement already satisfied: typing-inspect<1,>=0.4.0 in /Users/rajeev/.pyenv/versions/3.10.15/lib/python3.10/site-packages (from dataclasses-json<0.7,>=0.5.7->langchain_community) (0.9.0)\n",
      "Requirement already satisfied: langchain-text-splitters<0.4.0,>=0.3.3 in /Users/rajeev/.pyenv/versions/3.10.15/lib/python3.10/site-packages (from langchain<0.4.0,>=0.3.13->langchain_community) (0.3.4)\n",
      "Requirement already satisfied: packaging<25,>=23.2 in /Users/rajeev/.pyenv/versions/3.10.15/lib/python3.10/site-packages (from langchain-core<0.4.0,>=0.3.27->langchain_community) (24.2)\n",
      "Requirement already satisfied: jsonpatch<2.0,>=1.33 in /Users/rajeev/.pyenv/versions/3.10.15/lib/python3.10/site-packages (from langchain-core<0.4.0,>=0.3.27->langchain_community) (1.33)\n",
      "Requirement already satisfied: httpx<1,>=0.23.0 in /Users/rajeev/.pyenv/versions/3.10.15/lib/python3.10/site-packages (from langsmith<0.3,>=0.1.125->langchain_community) (0.27.2)\n",
      "Requirement already satisfied: requests-toolbelt<2.0.0,>=1.0.0 in /Users/rajeev/.pyenv/versions/3.10.15/lib/python3.10/site-packages (from langsmith<0.3,>=0.1.125->langchain_community) (1.0.0)\n",
      "Requirement already satisfied: orjson<4.0.0,>=3.9.14 in /Users/rajeev/.pyenv/versions/3.10.15/lib/python3.10/site-packages (from langsmith<0.3,>=0.1.125->langchain_community) (3.10.12)\n",
      "Requirement already satisfied: urllib3<3,>=1.21.1 in /Users/rajeev/.pyenv/versions/3.10.15/lib/python3.10/site-packages (from requests<3,>=2->langchain_community) (1.26.20)\n",
      "Requirement already satisfied: idna<4,>=2.5 in /Users/rajeev/.pyenv/versions/3.10.15/lib/python3.10/site-packages (from requests<3,>=2->langchain_community) (3.10)\n",
      "Requirement already satisfied: certifi>=2017.4.17 in /Users/rajeev/.pyenv/versions/3.10.15/lib/python3.10/site-packages (from requests<3,>=2->langchain_community) (2024.12.14)\n",
      "Requirement already satisfied: charset-normalizer<4,>=2 in /Users/rajeev/.pyenv/versions/3.10.15/lib/python3.10/site-packages (from requests<3,>=2->langchain_community) (3.4.0)\n",
      "Requirement already satisfied: anyio in /Users/rajeev/.pyenv/versions/3.10.15/lib/python3.10/site-packages (from httpx<1,>=0.23.0->langsmith<0.3,>=0.1.125->langchain_community) (4.7.0)\n",
      "Requirement already satisfied: sniffio in /Users/rajeev/.pyenv/versions/3.10.15/lib/python3.10/site-packages (from httpx<1,>=0.23.0->langsmith<0.3,>=0.1.125->langchain_community) (1.3.1)\n",
      "Requirement already satisfied: httpcore==1.* in /Users/rajeev/.pyenv/versions/3.10.15/lib/python3.10/site-packages (from httpx<1,>=0.23.0->langsmith<0.3,>=0.1.125->langchain_community) (1.0.7)\n",
      "Requirement already satisfied: h11<0.15,>=0.13 in /Users/rajeev/.pyenv/versions/3.10.15/lib/python3.10/site-packages (from httpcore==1.*->httpx<1,>=0.23.0->langsmith<0.3,>=0.1.125->langchain_community) (0.14.0)\n",
      "Requirement already satisfied: jsonpointer>=1.9 in /Users/rajeev/.pyenv/versions/3.10.15/lib/python3.10/site-packages (from jsonpatch<2.0,>=1.33->langchain-core<0.4.0,>=0.3.27->langchain_community) (3.0.0)\n",
      "Requirement already satisfied: mypy-extensions>=0.3.0 in /Users/rajeev/.pyenv/versions/3.10.15/lib/python3.10/site-packages (from typing-inspect<1,>=0.4.0->dataclasses-json<0.7,>=0.5.7->langchain_community) (1.0.0)\n",
      "Requirement already satisfied: exceptiongroup>=1.0.2 in /Users/rajeev/.pyenv/versions/3.10.15/lib/python3.10/site-packages (from anyio->httpx<1,>=0.23.0->langsmith<0.3,>=0.1.125->langchain_community) (1.2.2)\n",
      "\u001b[33mWARNING: There was an error checking the latest version of pip.\u001b[0m\u001b[33m\n",
      "\u001b[0m"
     ]
    }
   ],
   "source": [
    "# Install required packages\n",
    "!pip install -q \"langchain>=0.1.0\" \"langchain-community>=0.0.13\" \"langchain-core>=0.1.17\" \\\n",
    "    \"langchain-ollama>=0.0.1\" \"pdfminer.six>=20221105\" \"markdown>=3.5.2\" \"docling>=2.0.0\" \\\n",
    "    \"beautifulsoup4>=4.12.0\" \"unstructured>=0.12.0\" \"chromadb>=0.4.22\" \"faiss-cpu>=1.7.4\" \\\n",
    "    \"requests>=2.32.0\"\n",
    "!pip install git+https://github.com/ibm-granite-community/utils langchain_community pydantic"
   ]
  },
  {
   "cell_type": "markdown",
   "metadata": {},
   "source": [
    "### Instantiate the model client"
   ]
  },
  {
   "cell_type": "code",
   "execution_count": 5,
   "metadata": {},
   "outputs": [],
   "source": [
    "import json\n",
    "from langchain_ollama import OllamaEmbeddings, OllamaLLM\n",
    "from ibm_granite_community.notebook_utils import get_env_var\n",
    "# Required imports\n",
    "import os\n",
    "import tempfile\n",
    "import shutil\n",
    "from pathlib import Path\n",
    "from IPython.display import Markdown, display\n",
    "\n",
    "# Docling imports\n",
    "from docling.datamodel.base_models import InputFormat\n",
    "from docling.datamodel.pipeline_options import PdfPipelineOptions, TesseractCliOcrOptions\n",
    "from docling.document_converter import DocumentConverter, PdfFormatOption, WordFormatOption, SimplePipeline\n",
    "\n",
    "# LangChain imports\n",
    "from langchain_community.document_loaders import UnstructuredMarkdownLoader\n",
    "from langchain.text_splitter import RecursiveCharacterTextSplitter\n",
    "from langchain_community.vectorstores import FAISS\n",
    "from langchain.chains import ConversationalRetrievalChain\n",
    "from langchain.memory import ConversationBufferMemory\n",
    "\n",
    "model_name: str = \"granite3.1-dense:8b\"\n",
    "\n",
    "model =  OllamaLLM(\n",
    "        model=model_name,\n",
    "        temperature=0\n",
    "    )"
   ]
  },
  {
   "cell_type": "code",
   "execution_count": 6,
   "metadata": {},
   "outputs": [],
   "source": [
    "def get_document_format(file_path) -> InputFormat:\n",
    "    \"\"\"Determine the document format based on file extension\"\"\"\n",
    "    try:\n",
    "        file_path = str(file_path)\n",
    "        extension = os.path.splitext(file_path)[1].lower()\n",
    "\n",
    "        format_map = {\n",
    "            '.pdf': InputFormat.PDF,\n",
    "            '.docx': InputFormat.DOCX,\n",
    "            '.doc': InputFormat.DOCX,\n",
    "            '.pptx': InputFormat.PPTX,\n",
    "            '.html': InputFormat.HTML,\n",
    "            '.htm': InputFormat.HTML\n",
    "        }\n",
    "        return format_map.get(extension, None)\n",
    "    except:\n",
    "        return \"Error in get_document_format: {str(e)}\""
   ]
  },
  {
   "cell_type": "code",
   "execution_count": 11,
   "metadata": {},
   "outputs": [],
   "source": [
    "def convert_document_to_text(doc_path) -> str:\n",
    "    \"\"\"Convert document to markdown using simplified pipeline\"\"\"\n",
    "    try:\n",
    "        # Convert to absolute path string\n",
    "        input_path = os.path.abspath(str(doc_path))\n",
    "        print(f\"Converting document: {doc_path}\")\n",
    "\n",
    "        # Create temporary directory for processing\n",
    "        with tempfile.TemporaryDirectory() as temp_dir:\n",
    "            # Copy input file to temp directory\n",
    "            temp_input = os.path.join(temp_dir, os.path.basename(input_path))\n",
    "            shutil.copy2(input_path, temp_input)\n",
    "\n",
    "            # Configure pipeline options\n",
    "            pipeline_options = PdfPipelineOptions()\n",
    "            pipeline_options.do_ocr = False  # Disable OCR temporarily\n",
    "            pipeline_options.do_table_structure = True\n",
    "\n",
    "            # Create converter with minimal options\n",
    "            converter = DocumentConverter(\n",
    "                allowed_formats=[\n",
    "                    InputFormat.PDF,\n",
    "                    InputFormat.DOCX,\n",
    "                    InputFormat.HTML,\n",
    "                    InputFormat.PPTX,\n",
    "                ],\n",
    "                format_options={\n",
    "                    InputFormat.PDF: PdfFormatOption(\n",
    "                        pipeline_options=pipeline_options,\n",
    "                    ),\n",
    "                    InputFormat.DOCX: WordFormatOption(\n",
    "                        pipeline_cls=SimplePipeline\n",
    "                    )\n",
    "                }\n",
    "            )\n",
    "\n",
    "            # Convert document\n",
    "            print(\"Starting conversion...\")\n",
    "            conv_result = converter.convert(temp_input)\n",
    "\n",
    "            if not conv_result or not conv_result.document:\n",
    "                raise ValueError(f\"Failed to convert document: {doc_path}\")\n",
    "\n",
    "            # Export to markdown\n",
    "            print(\"Exporting to markdown...\")\n",
    "            md = conv_result.document.export_to_markdown()\n",
    "\n",
    "            #\n",
    "            # print(\"MD= \" + md)\n",
    "\n",
    "            return md\n",
    "    except:\n",
    "        return f\"Error converting document: {doc_path}\""
   ]
  },
  {
   "cell_type": "code",
   "execution_count": 12,
   "metadata": {},
   "outputs": [
    {
     "name": "stdout",
     "output_type": "stream",
     "text": [
      "Converting document: l0.pdf\n",
      "Starting conversion...\n",
      "Exporting to markdown...\n",
      "RES= ## Notice of Representation\n",
      "\n",
      "Budget Mutual Insurance Company 9876 Infinity Ave Springfield, MI 65541\n",
      "\n",
      "Georgia Collan Parker LLP 9816 51st Ave SW Auburn, Washington(WA), 98092\n",
      "\n",
      "Our Client: Courtney Sosa Date of death: 6/12/2020\n",
      "\n",
      "To Whom It May Concern,\n",
      "\n",
      "I have been retained by Courtney Sosa to handle the estate of Lukas Juarez. My understanding is that they had a life insurance policy (#951033310) with your company. If this is correct, please send a letter to my office indicating you have received our letter of representation. Additionally, please do not contact our client going forward.\n",
      "\n",
      "We are requesting that you forward the full policy amount of $50,000. Please forward an acknowledgement of our demand and please forward the umbrella policy information if one is applicable. Please send my secretary any information regarding liens on his policy.\n",
      "\n",
      "Please contact my office if you have any questions.\n",
      "\n",
      "Sincerely,\n",
      "\n",
      "Angela Berry, Attorney\n"
     ]
    }
   ],
   "source": [
    "doc_path = Path(\"l0.pdf\")  # Replace with your document path\n",
    "\n",
    "# Check format and process\n",
    "doc_format = get_document_format(doc_path)\n",
    "res = convert_document_to_text(doc_path)\n",
    "\n",
    "print(\"RES= \" + res)"
   ]
  },
  {
   "cell_type": "markdown",
   "metadata": {},
   "source": [
    "### 1 - Entity Extraction by defining entities in the prompt"
   ]
  },
  {
   "cell_type": "markdown",
   "metadata": {},
   "source": [
    "The first approach is straightforward and involves explicitly defining the entities within the prompt itself. In this method, we specify the entities to be extracted along with their descriptions directly in the prompt. This includes:  \n",
    "\n",
    "<u>**Entity Definitions:**</u> Each entity, such as title, author, price, and rating, is clearly outlined with a concise description of what it represents.  \n",
    "\n",
    "<u>**Prompt Structure:**</u> The prompt is structured to guide the LLM in understanding exactly what information is needed. By providing detailed instructions, we aim to ensure that the model focuses on extracting only the relevant data.  \n",
    "\n",
    "<u>**Output Format:**</u> The output is required to be in JSON format, which enforces a consistent structure for the extracted data. If any entity is not found, the model is instructed to return \"Data not available,\" preventing ambiguity.  "
   ]
  },
  {
   "cell_type": "markdown",
   "metadata": {},
   "source": [
    "Provide some text with information for a book. In this case, we use generated commentary on 'The Hunger Games' by Suzanne Collins."
   ]
  },
  {
   "cell_type": "markdown",
   "metadata": {},
   "source": [
    "All the entities that need to be fetched are defined in the prompt itself along with the entity's description."
   ]
  },
  {
   "cell_type": "code",
   "execution_count": 13,
   "metadata": {},
   "outputs": [],
   "source": [
    "entity_prompt = f\"\"\"\n",
    "<|start_of_role|>user<|end_of_role|>\n",
    "    -You are an AI Entity Extractor. You help extract entities from the given information about a book. Here is the book information:\n",
    "    {res}\n",
    "\n",
    "    - Extract the following entities:\n",
    "\n",
    "    1) `Insurance Company` : This is the name of the company.\n",
    "    2) `Insurance Company Address`: This is the address of the company.\n",
    "    3) `Law Firm`: Name of the Law Firm.\n",
    "    4) `Law Office Address`: This is the address of the law firm.\n",
    "\n",
    "    -Your output should strictly be in a json format, which only contains the key and value. The key here is the entity to be extracted and the value is the entity which you extracted.\n",
    "    -Do not generate random entities on your own. If it is not present or you are unable to find any specified entity, you strictly have to output it as `Data not available`.\n",
    "    -Only do what is asked to you. Do not give any explanations to your output and do not hallucinate.\n",
    "    <|end_of_text|>\n",
    "    <|start_of_role|>assistant<|end_of_role|>\n",
    "\"\"\""
   ]
  },
  {
   "cell_type": "markdown",
   "metadata": {},
   "source": [
    "Invoking the model to get the results"
   ]
  },
  {
   "cell_type": "code",
   "execution_count": 14,
   "metadata": {},
   "outputs": [
    {
     "name": "stdout",
     "output_type": "stream",
     "text": [
      "{\n",
      "  \"Insurance Company\": \"Budget Mutual Insurance Company\",\n",
      "  \"Insurance Company Address\": \"9876 Infinity Ave Springfield, MI 65541\",\n",
      "  \"Law Firm\": \"Georgia Collan Parker LLP\",\n",
      "  \"Law Office Address\": \"9816 51st Ave SW Auburn, Washington(WA), 98092\"\n",
      "}\n"
     ]
    }
   ],
   "source": [
    "response = model.invoke(entity_prompt)\n",
    "print(response)"
   ]
  },
  {
   "cell_type": "code",
   "execution_count": 15,
   "metadata": {},
   "outputs": [
    {
     "data": {
      "text/plain": [
       "{'Insurance Company': 'Budget Mutual Insurance Company',\n",
       " 'Insurance Company Address': '9876 Infinity Ave Springfield, MI 65541',\n",
       " 'Law Firm': 'Georgia Collan Parker LLP',\n",
       " 'Law Office Address': '9816 51st Ave SW Auburn, Washington(WA), 98092'}"
      ]
     },
     "execution_count": 15,
     "metadata": {},
     "output_type": "execute_result"
    }
   ],
   "source": [
    "dl_info = json.loads(response)\n",
    "dl_info"
   ]
  },
  {
   "cell_type": "markdown",
   "metadata": {},
   "source": [
    "---"
   ]
  }
 ],
 "metadata": {
  "kernelspec": {
   "display_name": "3.10.15",
   "language": "python",
   "name": "python3"
  },
  "language_info": {
   "codemirror_mode": {
    "name": "ipython",
    "version": 3
   },
   "file_extension": ".py",
   "mimetype": "text/x-python",
   "name": "python",
   "nbconvert_exporter": "python",
   "pygments_lexer": "ipython3",
   "version": "3.10.15"
  }
 },
 "nbformat": 4,
 "nbformat_minor": 2
}
